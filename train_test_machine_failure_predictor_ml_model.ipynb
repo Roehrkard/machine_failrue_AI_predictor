{
 "cells": [
  {
   "cell_type": "code",
   "execution_count": 23,
   "id": "cea1b755",
   "metadata": {},
   "outputs": [
    {
     "data": {
      "text/plain": [
       "0.9705"
      ]
     },
     "execution_count": 23,
     "metadata": {},
     "output_type": "execute_result"
    }
   ],
   "source": [
    "import pandas as pd\n",
    "from sklearn.tree import DecisionTreeClassifier\n",
    "from sklearn.model_selection import train_test_split\n",
    "from sklearn.metrics import accuracy_score\n",
    "import joblib\n",
    "\n",
    "df = pd.read_csv('predictive_maintenance.csv')\n",
    "# x: input set\n",
    "X = df.drop(columns=['Failure_Type'])\n",
    "# y: output set\n",
    "y = df['Failure_Type']\n",
    "\n",
    "# splits data and alocates 20% of data to testing\n",
    "X_train, X_test, y_train, y_test = train_test_split(X,y, test_size=0.2)\n",
    "\n",
    "# ml algorithm\n",
    "model = DecisionTreeClassifier()\n",
    "# inserting (inputs,output)\n",
    "model.fit(X_train,y_train)\n",
    "predictions = model.predict(X_test)\n",
    "\n",
    "score = accuracy_score(y_test, predictions)\n",
    "score\n"
   ]
  },
  {
   "cell_type": "code",
   "execution_count": 24,
   "id": "d25a70a4",
   "metadata": {},
   "outputs": [
    {
     "data": {
      "text/plain": [
       "['machine-failure-predictor.joblib']"
      ]
     },
     "execution_count": 24,
     "metadata": {},
     "output_type": "execute_result"
    }
   ],
   "source": [
    "joblib.dump(model, 'machine-failure-predictor.joblib')"
   ]
  }
 ],
 "metadata": {
  "kernelspec": {
   "display_name": "Python 3 (ipykernel)",
   "language": "python",
   "name": "python3"
  },
  "language_info": {
   "codemirror_mode": {
    "name": "ipython",
    "version": 3
   },
   "file_extension": ".py",
   "mimetype": "text/x-python",
   "name": "python",
   "nbconvert_exporter": "python",
   "pygments_lexer": "ipython3",
   "version": "3.9.7"
  }
 },
 "nbformat": 4,
 "nbformat_minor": 5
}
