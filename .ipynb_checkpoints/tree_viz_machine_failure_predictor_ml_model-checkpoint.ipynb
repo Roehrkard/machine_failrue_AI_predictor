{
 "cells": [
  {
   "cell_type": "code",
   "execution_count": 3,
   "id": "00ae7e68",
   "metadata": {},
   "outputs": [],
   "source": [
    "import pandas as pd\n",
    "from sklearn.tree import DecisionTreeClassifier\n",
    "from sklearn import tree\n",
    "\n",
    "df = pd.read_csv('predictive_maintenance.csv')\n",
    "X = df.drop(columns=['Failure_Type'])\n",
    "y = df['Failure_Type']\n",
    "\n",
    "model = DecisionTreeClassifier()\n",
    "model.fit(X, y)\n",
    "\n",
    "tree.export_graphviz(model, out_file='machine-failure-predictor.dot',\n",
    "                    feature_names=['Air temperature [K]', 'Process temperature [K]', \n",
    "                                   'Rotational speed [rpm]', 'Torque [N2]', 'Tool wear [min]'],\n",
    "                    class_names=sorted(y.unique()),\n",
    "                    label='all',\n",
    "                    rounded=True,\n",
    "                    filled=True)"
   ]
  }
 ],
 "metadata": {
  "kernelspec": {
   "display_name": "Python 3 (ipykernel)",
   "language": "python",
   "name": "python3"
  },
  "language_info": {
   "codemirror_mode": {
    "name": "ipython",
    "version": 3
   },
   "file_extension": ".py",
   "mimetype": "text/x-python",
   "name": "python",
   "nbconvert_exporter": "python",
   "pygments_lexer": "ipython3",
   "version": "3.9.7"
  }
 },
 "nbformat": 4,
 "nbformat_minor": 5
}
